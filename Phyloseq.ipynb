{
 "cells": [
  {
   "cell_type": "markdown",
   "metadata": {},
   "source": [
    "## R Notebook for Visualizing Mothur Output with R Package Phyloseq"
   ]
  },
  {
   "cell_type": "code",
   "execution_count": 2,
   "metadata": {},
   "outputs": [
    {
     "name": "stderr",
     "output_type": "stream",
     "text": [
      "Warning message:\n",
      "\"package 'vegan' was built under R version 3.5.2\"Loading required package: permute\n",
      "Warning message:\n",
      "\"package 'permute' was built under R version 3.5.2\"Loading required package: lattice\n",
      "This is vegan 2.5-4\n",
      "\n",
      "Attaching package: 'dplyr'\n",
      "\n",
      "The following objects are masked from 'package:stats':\n",
      "\n",
      "    filter, lag\n",
      "\n",
      "The following objects are masked from 'package:base':\n",
      "\n",
      "    intersect, setdiff, setequal, union\n",
      "\n",
      "Warning message:\n",
      "\"package 'phyloseq' was built under R version 3.5.2\""
     ]
    }
   ],
   "source": [
    "library(ggplot2)\n",
    "library(vegan)\n",
    "library(dplyr)\n",
    "library(scales)\n",
    "library(grid)\n",
    "library(reshape2)\n",
    "library(phyloseq)"
   ]
  },
  {
   "cell_type": "markdown",
   "metadata": {},
   "source": [
    "## Import Data from mothur"
   ]
  },
  {
   "cell_type": "code",
   "execution_count": 3,
   "metadata": {},
   "outputs": [
    {
     "name": "stdout",
     "output_type": "stream",
     "text": [
      "Is your data paired (Y/N)?Y\n"
     ]
    }
   ],
   "source": [
    "paired = readline(prompt = \"Is your data paired (Y/N)?\")"
   ]
  },
  {
   "cell_type": "code",
   "execution_count": 3,
   "metadata": {},
   "outputs": [],
   "source": [
    "workingDir = \"C:/Users/Haley/Documents/MiSeq/MiSeq_SOP/H1-7_Output\"\n",
    "setwd(workingDir)\n",
    "sharedfile = \"stability.trim.contigs.good.unique.good.filter.unique.precluster.pick.pick.opti_mcc.shared\"\n",
    "taxfile = \"stability.trim.contigs.good.unique.good.filter.unique.precluster.pick.pick.opti_mcc.0.03.cons.taxonomy\"\n",
    "mapfile = \"Sample_Data.csv\"\n",
    "theme_set(theme_bw())"
   ]
  },
  {
   "cell_type": "code",
   "execution_count": 4,
   "metadata": {},
   "outputs": [],
   "source": [
    "mothur_data <- import_mothur(mothur_shared_file = sharedfile,\n",
    "                             mothur_constaxonomy_file = taxfile)\n",
    "map <- read.csv(mapfile)\n",
    "map <- sample_data(map)\n",
    "rownames(map) <- map$Sample\n",
    "\n",
    "moth_merge <- merge_phyloseq(mothur_data, map)\n",
    "\n",
    "colnames(tax_table(moth_merge)) <- c(\"Kingdom\", \"Phylum\", \"Class\", \"Order\", \n",
    "                                      \"Family\", \"Genus\")\n",
    "Kingdom = c(\"Bacteria\", \"Archaea\")\n",
    "scorps <- moth_merge %>%\n",
    "  subset_taxa(\n",
    "    Kingdom == Kingdom &\n",
    "      Family  != \"mitochondria\" &\n",
    "      Class   != \"Chloroplast\"\n",
    "  )"
   ]
  },
  {
   "cell_type": "markdown",
   "metadata": {},
   "source": [
    "## Distribution of Reads"
   ]
  },
  {
   "cell_type": "code",
   "execution_count": 5,
   "metadata": {},
   "outputs": [
    {
     "data": {
      "image/png": "[encoded data removed]",
      "text/plain": [
       "plot without title"
      ]
     },
     "metadata": {},
     "output_type": "display_data"
    }
   ],
   "source": [
    "sample_sum_df <- data.frame(sum = sample_sums(scorps))\n",
    "ggplot(sample_sum_df, aes(x = sum)) + \n",
    "  geom_histogram(color = \"black\", fill = \"indianred\", binwidth = 2500) +\n",
    "  ggtitle(\"Distribution of sample sequencing depth\") + \n",
    "  xlab(\"Read counts\") +\n",
    "  theme(axis.title.y = element_blank())\n"
   ]
  },
  {
   "cell_type": "markdown",
   "metadata": {},
   "source": [
    "## Stacked Barplots of Composition of Phyla In Communities"
   ]
  },
  {
   "cell_type": "markdown",
   "metadata": {},
   "source": [
    "Set percent cutoff for relative abundance of phyla included in barplots"
   ]
  },
  {
   "cell_type": "code",
   "execution_count": 18,
   "metadata": {},
   "outputs": [],
   "source": [
    "cutoff = 0.005"
   ]
  },
  {
   "cell_type": "code",
   "execution_count": 19,
   "metadata": {
    "scrolled": false
   },
   "outputs": [
    {
     "name": "stderr",
     "output_type": "stream",
     "text": [
      "Warning message in psmelt(.):\n",
      "\"The sample variables: \n",
      "Sample\n",
      " have been renamed to: \n",
      "sample_Sample\n",
      "to avoid conflicts with special phyloseq plot attribute names.\""
     ]
    },
    {
     "data": {
      "image/png": "[encoded data removed]",
      "text/plain": [
       "plot without title"
      ]
     },
     "metadata": {},
     "output_type": "display_data"
    }
   ],
   "source": [
    "scorps_phylum <- scorps %>%\n",
    "  tax_glom(taxrank = \"Phylum\") %>%                     # agglomerate at phylum level\n",
    "  transform_sample_counts(function(x) {x/sum(x)} ) %>% # Transform to rel. abundance\n",
    "  psmelt() %>%                                         # Melt to long format\n",
    "  filter(Abundance > cutoff) %>%                         # Filter out low abundance taxa\n",
    "  arrange(Phylum)                                      # Sort data frame alphabetically by phylum\n",
    "\n",
    "s <- strsplit(scorps_phylum$Sample, \"ARIZON\")\n",
    "s <- sapply(s, function(x)x[1])\n",
    "\n",
    "scorps_phylum <- scorps_phylum %>% mutate(sample2 = s)\n",
    "\n",
    "\n",
    "phylum_colors <- c(\n",
    "  \"#CBD588\", \"#5F7FC7\", \"orange\",\"#DA5724\", \"#508578\", \"#CD9BCD\",\n",
    "  \"#AD6F3B\", \"#673770\",\"#D14285\", \"#652926\", \"#C84248\", \n",
    "  \"#8569D5\", \"#5E738F\",\"#D1A33D\", \"#8A7C64\", \"#599861\"\n",
    ")\n",
    "\n",
    "\n",
    "\n",
    "ggplot(scorps_phylum, aes(x = sample2, y = Abundance, fill = Phylum)) + \n",
    "  facet_grid(Type~.) +\n",
    "  geom_bar(stat = \"identity\") +\n",
    "  scale_fill_manual(values = phylum_colors) +\n",
    "  scale_x_discrete(\n",
    "    drop = FALSE,\n",
    "    labels = unique(scorps_phylum$sample2)\n",
    "  ) +\n",
    "  # Remove x axis title\n",
    "  theme(axis.title.x = element_blank()) + \n",
    "  #\n",
    "  guides(fill = guide_legend(reverse = TRUE, keywidth = 1, keyheight = 1)) +\n",
    "  ylab(\"Relative Abundance (Phyla > 2%) \\n\") +\n",
    "  ggtitle(\"Phylum Composition of Hadrurus Arizonensis \\n Telson Bacterial Community\") \n",
    "\n"
   ]
  },
  {
   "cell_type": "markdown",
   "metadata": {},
   "source": [
    "Function to Scale Reads"
   ]
  },
  {
   "cell_type": "code",
   "execution_count": 8,
   "metadata": {},
   "outputs": [
    {
     "data": {
      "image/png": "[encoded data removed]",
      "text/plain": [
       "plot without title"
      ]
     },
     "metadata": {},
     "output_type": "display_data"
    }
   ],
   "source": [
    "scale_reads <- function(physeq, n=1) {\n",
    "  scale2 <- function(x) {\n",
    "    #cat(\"in scale2..\\n\")\n",
    "    (100 * x/sum(x))\n",
    "  }\n",
    "  physeq.scale <- transform_sample_counts(physeq, scale2)\n",
    "  otu_table(physeq.scale) <- floor(otu_table(physeq.scale))\n",
    "  physeq.scale <- prune_taxa(taxa_sums(physeq.scale) > 0, physeq.scale)\n",
    "  return(physeq.scale)\n",
    "}\n",
    "\n",
    "\n",
    "scorps_scale <- scorps %>% scale_reads \n",
    "\n",
    "scorps_pcoa <- ordinate(\n",
    "  physeq = scorps_scale, \n",
    "  method = \"PCoA\", \n",
    "  distance = \"bray\"\n",
    ")\n",
    "\n",
    "\n",
    "plot_ordination(\n",
    "  physeq = scorps_scale,\n",
    "  ordination = scorps_pcoa,\n",
    "  color = \"Type\",\n",
    "  title = \"PCoA of Hadrurus arizonensis bacterial Communities\"\n",
    ") + \n",
    "  scale_color_manual(values = c(\"#a65628\", \"red\", \"#ffae19\",\n",
    "                                \"#4daf4a\", \"#1919ff\", \"darkorchid3\", \"magenta\")\n",
    "  ) +\n",
    "  geom_point(aes(color = Type), alpha = 0.7, size = 4) +\n",
    "  geom_point(colour = \"grey90\", size = 1.5) "
   ]
  },
  {
   "cell_type": "markdown",
   "metadata": {},
   "source": [
    "Function to run adonis test on a physeq object and a variable from metadata"
   ]
  },
  {
   "cell_type": "code",
   "execution_count": 10,
   "metadata": {},
   "outputs": [],
   "source": [
    "doadonis <- function(physeq, category) {\n",
    "  physeq.scale <- scale_reads(physeq, min(sample_sums(physeq)))\n",
    "  bdist <- phyloseq::distance(physeq.scale, \"bray\")\n",
    "  col <- as(sample_data(physeq), \"data.frame\")[ ,category]\n",
    "  \n",
    "  # Adonis test\n",
    "  adonis.bdist <- adonis(bdist ~ col)\n",
    "  print(\"Adonis results:\")\n",
    "  print(adonis.bdist)\n",
    "  \n",
    "  # Homogeneity of dispersion test\n",
    "  betatax = betadisper(bdist,col)\n",
    "  p = permutest(betatax)\n",
    "  print(\"Betadisper results:\")\n",
    "  print(p$tab)\n",
    "}"
   ]
  },
  {
   "cell_type": "markdown",
   "metadata": {},
   "source": [
    "## Permanova"
   ]
  },
  {
   "cell_type": "code",
   "execution_count": 11,
   "metadata": {},
   "outputs": [
    {
     "data": {
      "text/plain": [
       "\n",
       "Call:\n",
       "adonis(formula = scorps_bray ~ Type, data = sampledf) \n",
       "\n",
       "Permutation: free\n",
       "Number of permutations: 999\n",
       "\n",
       "Terms added sequentially (first to last)\n",
       "\n",
       "          Df SumsOfSqs MeanSqs F.Model      R2 Pr(>F)\n",
       "Type       1    0.2788 0.27885 0.74407 0.05839  0.789\n",
       "Residuals 12    4.4971 0.37476         0.94161       \n",
       "Total     13    4.7759                 1.00000       "
      ]
     },
     "metadata": {},
     "output_type": "display_data"
    }
   ],
   "source": [
    "set.seed(1)\n",
    "\n",
    "# Calculate bray curtis distance matrix\n",
    "scorps_bray <- phyloseq::distance(scorps, method = \"bray\")\n",
    "\n",
    "# make a data frame from the sample_data\n",
    "sampledf <- data.frame(sample_data(scorps))\n",
    "\n",
    "# Adonis test\n",
    "adonis(scorps_bray ~ Type, data = sampledf)"
   ]
  },
  {
   "cell_type": "markdown",
   "metadata": {},
   "source": [
    "## Alpha Diversity"
   ]
  },
  {
   "cell_type": "code",
   "execution_count": 12,
   "metadata": {},
   "outputs": [],
   "source": [
    "min_lib <- min(sample_sums(scorps))\n",
    "nsamp = nsamples(scorps)\n",
    "trials = 100\n",
    "richness <- matrix(nrow = nsamp, ncol = trials)\n",
    "row.names(richness) <- sample_names(scorps)\n",
    "\n",
    "evenness <- matrix(nrow = nsamp, ncol = trials)\n",
    "row.names(evenness) <- sample_names(scorps)\n",
    "\n",
    "set.seed(3)\n",
    "\n",
    "for (i in 1:100) {\n",
    "  # Subsample\n",
    "  r <- rarefy_even_depth(scorps, sample.size = min_lib, verbose = FALSE, replace = TRUE)\n",
    "  \n",
    "  # Calculate richness\n",
    "  rich <- as.numeric(as.matrix(estimate_richness(r, measures = \"Observed\")))\n",
    "  richness[ ,i] <- rich\n",
    "  \n",
    "  # Calculate evenness\n",
    "  even <- as.numeric(as.matrix(estimate_richness(r, measures = \"InvSimpson\")))\n",
    "  evenness[ ,i] <- even\n",
    "}"
   ]
  },
  {
   "cell_type": "markdown",
   "metadata": {},
   "source": [
    "Create a new dataframe to hold the means and standard deviations of richness estimates"
   ]
  },
  {
   "cell_type": "code",
   "execution_count": 13,
   "metadata": {},
   "outputs": [],
   "source": [
    "Sample <- row.names(richness)\n",
    "mean <- apply(richness, 1, mean)\n",
    "sd <- apply(richness, 1, sd)\n",
    "measure <- rep(\"Richness\", nsamp)\n",
    "rich_stats <- data.frame(Sample, mean, sd, measure)"
   ]
  },
  {
   "cell_type": "markdown",
   "metadata": {},
   "source": [
    "Create a new dataframe to hold the means and standard deviations of evenness estimates"
   ]
  },
  {
   "cell_type": "code",
   "execution_count": 14,
   "metadata": {},
   "outputs": [],
   "source": [
    "Sample <- row.names(evenness)\n",
    "mean <- apply(evenness, 1, mean)\n",
    "sd <- apply(evenness, 1, sd)\n",
    "measure <- rep(\"Inverse Simpson\", nsamp)\n",
    "even_stats <- data.frame(Sample, mean, sd, measure)"
   ]
  },
  {
   "cell_type": "markdown",
   "metadata": {},
   "source": [
    "Combine estimates for richness and evenness into one dataframe"
   ]
  },
  {
   "cell_type": "code",
   "execution_count": 15,
   "metadata": {},
   "outputs": [],
   "source": [
    "alpha <- rbind(rich_stats, even_stats)"
   ]
  },
  {
   "cell_type": "markdown",
   "metadata": {},
   "source": [
    "Add the sample metadata into this dataframe"
   ]
  },
  {
   "cell_type": "code",
   "execution_count": 16,
   "metadata": {},
   "outputs": [],
   "source": [
    "s <- data.frame(sample_data(scorps))\n",
    "alphadiv <- merge(alpha, s, by = \"Sample\") "
   ]
  },
  {
   "cell_type": "markdown",
   "metadata": {},
   "source": [
    "## Plot the two alpha diversity measures"
   ]
  },
  {
   "cell_type": "code",
   "execution_count": 17,
   "metadata": {},
   "outputs": [
    {
     "data": {
      "image/png": "[encoded data removed]",
      "text/plain": [
       "plot without title"
      ]
     },
     "metadata": {},
     "output_type": "display_data"
    }
   ],
   "source": [
    "ggplot(alphadiv, aes(x = Sample, y = mean, color = Type, group = Type, shape = Type)) +\n",
    "  geom_point(size = 2) + \n",
    "  geom_line(size = 0.8) +\n",
    "  facet_wrap(~measure, ncol = 1, scales = \"free\") +\n",
    "  scale_color_manual(values = c(\"#E96446\", \"#302F3D\", \"#87CEFA\")) +\n",
    "  scale_x_discrete(\n",
    "   \n",
    "    labels = c(\"H1\",\"H2\",\"H3\",\"H4\",\"H5\",\"H6\",\"H7\"),\n",
    "    drop = FALSE\n",
    "  ) +\n",
    "  theme(\n",
    "    axis.title.x = element_blank(),\n",
    "    axis.title.y = element_blank()\n",
    "  )\n"
   ]
  },
  {
   "cell_type": "code",
   "execution_count": null,
   "metadata": {},
   "outputs": [],
   "source": []
  },
  {
   "cell_type": "code",
   "execution_count": null,
   "metadata": {},
   "outputs": [],
   "source": []
  },
  {
   "cell_type": "code",
   "execution_count": null,
   "metadata": {},
   "outputs": [],
   "source": []
  }
 ],
 "metadata": {
  "kernelspec": {
   "display_name": "R",
   "language": "R",
   "name": "ir"
  },
  "language_info": {
   "codemirror_mode": "r",
   "file_extension": ".r",
   "mimetype": "text/x-r-source",
   "name": "R",
   "pygments_lexer": "r",
   "version": "3.5.1"
  }
 },
 "nbformat": 4,
 "nbformat_minor": 2
}
