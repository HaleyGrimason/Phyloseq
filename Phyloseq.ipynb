{
 "cells": [
  {
   "cell_type": "code",
   "execution_count": null,
   "metadata": {},
   "outputs": [],
   "source": [
    "library(ggplot2)\n",
    "library(vegan)\n",
    "library(dplyr)\n",
    "library(scales)\n",
    "library(grid)\n",
    "library(reshape2)\n",
    "library(phyloseq)"
   ]
  },
  {
   "cell_type": "markdown",
   "metadata": {},
   "source": [
    "## Import Data from mothur"
   ]
  },
  {
   "cell_type": "code",
   "execution_count": null,
   "metadata": {},
   "outputs": [],
   "source": [
    "workingDir = \"C:/Users/Haley/Documents/MiSeq/MiSeq_SOP/H1-3_Output\"\n",
    "setwd(workingDir)\n",
    "sharedfile = \"stability.trim.contigs.good.unique.good.filter.unique.precluster.pick.pick.opti_mcc.shared\"\n",
    "taxfile = \"stability.trim.contigs.good.unique.good.filter.unique.precluster.pick.pick.opti_mcc.0.03.cons.taxonomy\"\n",
    "mapfile = \"Sample_Data.csv\"\n",
    "theme_set(theme_bw())"
   ]
  },
  {
   "cell_type": "code",
   "execution_count": null,
   "metadata": {},
   "outputs": [],
   "source": [
    "mothur_data <- import_mothur(mothur_shared_file = sharedfile,\n",
    "                             mothur_constaxonomy_file = taxfile)"
   ]
  },
  {
   "cell_type": "code",
   "execution_count": null,
   "metadata": {},
   "outputs": [],
   "source": [
    "map <- read.csv(mapfile)\n",
    "map <- sample_data(map)\n",
    "rownames(map) <- map$Sample\n",
    "\n",
    "moth_merge <- merge_phyloseq(mothur_data, map)\n",
    "\n",
    "colnames(tax_table(moth_merge)) <- c(\"Kingdom\", \"Phylum\", \"Class\", \"Order\", \n",
    "                                      \"Family\", \"Genus\")\n",
    "scorps <- moth_merge %>%\n",
    "  subset_taxa(\n",
    "    Kingdom == \"Bacteria\" &\n",
    "      Family  != \"mitochondria\" &\n",
    "      Class   != \"Chloroplast\"\n",
    "  )"
   ]
  },
  {
   "cell_type": "markdown",
   "metadata": {},
   "source": [
    "## Distribution of Reads"
   ]
  },
  {
   "cell_type": "code",
   "execution_count": null,
   "metadata": {},
   "outputs": [],
   "source": [
    "sample_sum_df <- data.frame(sum = sample_sums(scorps))\n",
    "ggplot(sample_sum_df, aes(x = sum)) + \n",
    "  geom_histogram(color = \"black\", fill = \"indianred\", binwidth = 2500) +\n",
    "  ggtitle(\"Distribution of sample sequencing depth\") + \n",
    "  xlab(\"Read counts\") +\n",
    "  theme(axis.title.y = element_blank())\n"
   ]
  },
  {
   "cell_type": "markdown",
   "metadata": {},
   "source": [
    "## Stacked Barplots of Composition of Phyla In Communities"
   ]
  },
  {
   "cell_type": "markdown",
   "metadata": {},
   "source": [
    "Set percent cutoff for relative abundance of phyla included in barplots"
   ]
  },
  {
   "cell_type": "code",
   "execution_count": null,
   "metadata": {},
   "outputs": [],
   "source": [
    "cutoff = 0.005"
   ]
  },
  {
   "cell_type": "code",
   "execution_count": null,
   "metadata": {},
   "outputs": [],
   "source": [
    "scorps_phylum <- scorps %>%\n",
    "  tax_glom(taxrank = \"Phylum\") %>%                     \n",
    "  transform_sample_counts(function(x) {x/sum(x)} ) %>% \n",
    "  psmelt() %>%                                         \n",
    "  filter(Abundance > cutoff) %>%                         \n",
    "  arrange(Phylum)   \n",
    "\n",
    "phylum_colors <- c(\n",
    "  \"#CBD588\", \"#5F7FC7\", \"orange\",\"#DA5724\", \"#508578\", \"#CD9BCD\",\n",
    "  \"#AD6F3B\", \"#673770\",\"#D14285\", \"#652926\", \"#C84248\", \n",
    "  \"#8569D5\", \"#5E738F\",\"#D1A33D\", \"#8A7C64\", \"#599861\"\n",
    ")\n",
    "\n",
    "\n",
    "ggplot(scorps_phylum, aes(x = Sample, y = Abundance, fill = Phylum)) + \n",
    "  facet_grid(Type~.) +\n",
    "  geom_bar(stat = \"identity\") +\n",
    "  scale_fill_manual(values = phylum_colors) +\n",
    "  scale_x_discrete(\n",
    "    breaks = c(\"7/8\", \"8/4\", \"9/2\", \"10/6\"),\n",
    "    drop = FALSE\n",
    "  ) +\n",
    "  # Remove x axis title\n",
    "  theme(axis.title.x = element_blank()) + \n",
    "  #\n",
    "  guides(fill = guide_legend(reverse = TRUE, keywidth = 1, keyheight = 1)) +\n",
    "  ylab(\"Relative Abundance (Phyla > 0.5%) \\n\") +\n",
    "  ggtitle(\"Phylum Composition of Hadrurus Arizonensis \\n Bacterial Communities by Type\") \n",
    "\n"
   ]
  },
  {
   "cell_type": "markdown",
   "metadata": {},
   "source": [
    "Function to Scale Reads"
   ]
  },
  {
   "cell_type": "code",
   "execution_count": null,
   "metadata": {},
   "outputs": [],
   "source": [
    "scale_reads <- function(physeq, n) {\n",
    "  physeq.scale <-\n",
    "    transform_sample_counts(physeq, function(x) {\n",
    "      (n * x/sum(x))\n",
    "    })\n",
    "  otu_table(physeq.scale) <- floor(otu_table(physeq.scale))\n",
    "  physeq.scale <- prune_taxa(taxa_sums(physeq.scale) > 0, physeq.scale)\n",
    "  return(physeq.scale)\n",
    "}"
   ]
  },
  {
   "cell_type": "code",
   "execution_count": null,
   "metadata": {},
   "outputs": [],
   "source": [
    "#scorps_scale <- scorps %>%\n",
    "#    scale_reads(round=\"round\") "
   ]
  },
  {
   "cell_type": "code",
   "execution_count": null,
   "metadata": {},
   "outputs": [],
   "source": [
    "scorps_pcoa <- ordinate(\n",
    "  physeq = scorps, \n",
    "  method = \"PCoA\", \n",
    "  distance = \"bray\"\n",
    ")\n",
    "\n",
    "plot_ordination(\n",
    "  physeq = scorps,\n",
    "  ordination = scorps_pcoa,\n",
    "  color = \"Type\",\n",
    "  title = \"PCoA of Hadrurus arizonensis bacterial Communities\"\n",
    ") + \n",
    "  scale_color_manual(values = c(\"#a65628\", \"red\", \"#ffae19\",\n",
    "                                \"#4daf4a\", \"#1919ff\", \"darkorchid3\", \"magenta\")\n",
    "  ) +\n",
    "  geom_point(aes(color = Type), alpha = 0.7, size = 4) +\n",
    "  geom_point(colour = \"grey90\", size = 1.5) "
   ]
  },
  {
   "cell_type": "markdown",
   "metadata": {},
   "source": [
    "Function to run adonis test on a physeq object and a variable from metadata"
   ]
  },
  {
   "cell_type": "code",
   "execution_count": null,
   "metadata": {},
   "outputs": [],
   "source": [
    "doadonis <- function(physeq, category) {\n",
    "  physeq.scale <- scale_reads(physeq, min(sample_sums(physeq)))\n",
    "  bdist <- phyloseq::distance(physeq.scale, \"bray\")\n",
    "  col <- as(sample_data(physeq), \"data.frame\")[ ,category]\n",
    "  \n",
    "  # Adonis test\n",
    "  adonis.bdist <- adonis(bdist ~ col)\n",
    "  print(\"Adonis results:\")\n",
    "  print(adonis.bdist)\n",
    "  \n",
    "  # Homogeneity of dispersion test\n",
    "  betatax = betadisper(bdist,col)\n",
    "  p = permutest(betatax)\n",
    "  print(\"Betadisper results:\")\n",
    "  print(p$tab)\n",
    "}"
   ]
  },
  {
   "cell_type": "markdown",
   "metadata": {},
   "source": [
    "## Permanova"
   ]
  },
  {
   "cell_type": "code",
   "execution_count": null,
   "metadata": {},
   "outputs": [],
   "source": [
    "set.seed(1)\n",
    "\n",
    "# Calculate bray curtis distance matrix\n",
    "scorps_bray <- phyloseq::distance(scorps, method = \"bray\")\n",
    "\n",
    "# make a data frame from the sample_data\n",
    "sampledf <- data.frame(sample_data(scorps))\n",
    "\n",
    "# Adonis test\n",
    "adonis(scorps_bray ~ Type, data = sampledf)"
   ]
  },
  {
   "cell_type": "code",
   "execution_count": null,
   "metadata": {},
   "outputs": [],
   "source": [
    "beta <- betadisper(scorps_bray, sampledf$Type)\n",
    "permutest(beta)"
   ]
  },
  {
   "cell_type": "markdown",
   "metadata": {},
   "source": [
    "## Alpha Diversity"
   ]
  },
  {
   "cell_type": "code",
   "execution_count": null,
   "metadata": {},
   "outputs": [],
   "source": [
    "min_lib <- min(sample_sums(scorps))\n",
    "nsamp = nsamples(scorps)\n",
    "trials = 100\n",
    "richness <- matrix(nrow = nsamp, ncol = trials)\n",
    "row.names(richness) <- sample_names(scorps)\n",
    "\n",
    "evenness <- matrix(nrow = nsamp, ncol = trials)\n",
    "row.names(evenness) <- sample_names(scorps)\n",
    "\n",
    "set.seed(3)\n",
    "\n",
    "for (i in 1:100) {\n",
    "  # Subsample\n",
    "  r <- rarefy_even_depth(scorps, sample.size = min_lib, verbose = FALSE, replace = TRUE)\n",
    "  \n",
    "  # Calculate richness\n",
    "  rich <- as.numeric(as.matrix(estimate_richness(r, measures = \"Observed\")))\n",
    "  richness[ ,i] <- rich\n",
    "  \n",
    "  # Calculate evenness\n",
    "  even <- as.numeric(as.matrix(estimate_richness(r, measures = \"InvSimpson\")))\n",
    "  evenness[ ,i] <- even\n",
    "}"
   ]
  },
  {
   "cell_type": "markdown",
   "metadata": {},
   "source": [
    "Create a new dataframe to hold the means and standard deviations of richness estimates"
   ]
  },
  {
   "cell_type": "code",
   "execution_count": null,
   "metadata": {},
   "outputs": [],
   "source": [
    "Sample <- row.names(richness)\n",
    "mean <- apply(richness, 1, mean)\n",
    "sd <- apply(richness, 1, sd)\n",
    "measure <- rep(\"Richness\", nsamp)\n",
    "rich_stats <- data.frame(Sample, mean, sd, measure)"
   ]
  },
  {
   "cell_type": "markdown",
   "metadata": {},
   "source": [
    "Create a new dataframe to hold the means and standard deviations of evenness estimates"
   ]
  },
  {
   "cell_type": "code",
   "execution_count": null,
   "metadata": {},
   "outputs": [],
   "source": [
    "Sample <- row.names(evenness)\n",
    "mean <- apply(evenness, 1, mean)\n",
    "sd <- apply(evenness, 1, sd)\n",
    "measure <- rep(\"Inverse Simpson\", nsamp)\n",
    "even_stats <- data.frame(Sample, mean, sd, measure)"
   ]
  },
  {
   "cell_type": "markdown",
   "metadata": {},
   "source": [
    "Combine estimates for richness and evenness into one dataframe"
   ]
  },
  {
   "cell_type": "code",
   "execution_count": null,
   "metadata": {},
   "outputs": [],
   "source": [
    "alpha <- rbind(rich_stats, even_stats)"
   ]
  },
  {
   "cell_type": "markdown",
   "metadata": {},
   "source": [
    "Add the sample metadata into this dataframe"
   ]
  },
  {
   "cell_type": "code",
   "execution_count": null,
   "metadata": {},
   "outputs": [],
   "source": [
    "s <- data.frame(sample_data(scorps))\n",
    "alphadiv <- merge(alpha, s, by = \"Sample\") "
   ]
  },
  {
   "cell_type": "markdown",
   "metadata": {},
   "source": [
    "## Plot the two alpha diversity measures"
   ]
  },
  {
   "cell_type": "code",
   "execution_count": null,
   "metadata": {},
   "outputs": [],
   "source": [
    "ggplot(alphadiv, aes(x = Sample, y = mean, color = Type, group = Type, shape = Type)) +\n",
    "  geom_point(size = 2) + \n",
    "  geom_line(size = 0.8) +\n",
    "  facet_wrap(~measure, ncol = 1, scales = \"free\") +\n",
    "  scale_color_manual(values = c(\"#E96446\", \"#302F3D\", \"#87CEFA\")) +\n",
    "  scale_x_discrete(\n",
    "    breaks = c(\"7/8\", \"8/4\", \"9/2\", \"10/6\"),\n",
    "    drop = FALSE\n",
    "  ) +\n",
    "  theme(\n",
    "    axis.title.x = element_blank(),\n",
    "    axis.title.y = element_blank()\n",
    "  )\n"
   ]
  }
 ],
 "metadata": {
  "kernelspec": {
   "display_name": "R",
   "language": "R",
   "name": "ir"
  },
  "language_info": {
   "codemirror_mode": "r",
   "file_extension": ".r",
   "mimetype": "text/x-r-source",
   "name": "R",
   "pygments_lexer": "r",
   "version": "3.5.1"
  }
 },
 "nbformat": 4,
 "nbformat_minor": 2
}
